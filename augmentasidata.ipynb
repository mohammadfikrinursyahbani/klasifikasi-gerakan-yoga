{
 "cells": [
  {
   "cell_type": "code",
   "execution_count": 1,
   "metadata": {},
   "outputs": [],
   "source": [
    "import tensorflow as tf\n",
    "from keras.preprocessing.image import ImageDataGenerator\n",
    "from tensorflow.keras.utils import img_to_array\n",
    "from tensorflow.keras.utils import load_img"
   ]
  },
  {
   "cell_type": "code",
   "execution_count": 3,
   "metadata": {},
   "outputs": [],
   "source": [
    "datagen = ImageDataGenerator(rotation_range = 40, width_shift_range=0.2, height_shift_range= 0.2, shear_range= 0.2, zoom_range=0.2, horizontal_flip= True, fill_mode='nearest')\n",
    "img = load_img('DATASET/TRAIN/goddess/00000096.jpg')\n",
    "x = img_to_array(img)\n",
    "x = x.reshape((1, ) + x.shape)\n",
    "\n",
    "i = 0\n",
    "for batch in datagen.flow(x, batch_size=1, save_to_dir='Preview', save_prefix='Goddess', save_format='jpg'):\n",
    "    i +=1\n",
    "    if i > 20:\n",
    "        break\n"
   ]
  }
 ],
 "metadata": {
  "kernelspec": {
   "display_name": "Python 3.10.4 ('GPU')",
   "language": "python",
   "name": "python3"
  },
  "language_info": {
   "codemirror_mode": {
    "name": "ipython",
    "version": 3
   },
   "file_extension": ".py",
   "mimetype": "text/x-python",
   "name": "python",
   "nbconvert_exporter": "python",
   "pygments_lexer": "ipython3",
   "version": "3.10.4"
  },
  "orig_nbformat": 4,
  "vscode": {
   "interpreter": {
    "hash": "880257dc7fc1f9cba99395bcd1513b526de6f5596cdb7ad6ff6b18c49731a0f3"
   }
  }
 },
 "nbformat": 4,
 "nbformat_minor": 2
}
